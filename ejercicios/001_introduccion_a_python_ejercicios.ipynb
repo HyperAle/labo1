{
 "cells": [
  {
   "cell_type": "markdown",
   "metadata": {
    "slideshow": {
     "slide_type": "slide"
    }
   },
   "source": [
    "# Ejercicios"
   ]
  },
  {
   "cell_type": "markdown",
   "metadata": {
    "slideshow": {
     "slide_type": "slide"
    }
   },
   "source": [
    "### 1. Fórmula cuadrática\n",
    "\n",
    "a) Dadas las raíces $x1$ y $x2$, generar los coeficientes del polinomio de grado 2 correspondiente, y volver a calular las raíces a partir de estos.\n",
    "\n",
    "1. $x_1 = 1, x_2 = 3$\n",
    "1. $x_1 = 1, x_2 = 10^{-6}$\n",
    "1. $x_1 = 1, x_2 = 10^{-17}$\n",
    "\n",
    "**Tip:** $ 3 \\,. 10^{-5} $ se puede escribir como `3e-5` en Python."
   ]
  },
  {
   "cell_type": "code",
   "execution_count": null,
   "metadata": {},
   "outputs": [],
   "source": []
  },
  {
   "cell_type": "markdown",
   "metadata": {
    "slideshow": {
     "slide_type": "slide"
    }
   },
   "source": [
    "b) Escriba una función que calcule las raices a partir de los coeficientes. Es decir, encapsule el código anterior en una función."
   ]
  },
  {
   "cell_type": "code",
   "execution_count": null,
   "metadata": {},
   "outputs": [],
   "source": []
  },
  {
   "cell_type": "markdown",
   "metadata": {
    "slideshow": {
     "slide_type": "slide"
    }
   },
   "source": [
    "c) Documente a la función y pruebe llamarla de las distintas maneras posibles."
   ]
  },
  {
   "cell_type": "code",
   "execution_count": null,
   "metadata": {},
   "outputs": [],
   "source": []
  },
  {
   "cell_type": "markdown",
   "metadata": {
    "slideshow": {
     "slide_type": "slide"
    }
   },
   "source": [
    "d) ¿Qué pasa si llamamos a la función con $a=0$? Arregle la función para tener en cuenta ese caso."
   ]
  },
  {
   "cell_type": "code",
   "execution_count": null,
   "metadata": {},
   "outputs": [],
   "source": []
  },
  {
   "cell_type": "markdown",
   "metadata": {
    "slideshow": {
     "slide_type": "slide"
    }
   },
   "source": [
    "### 2. Números de Fibonacci"
   ]
  },
  {
   "cell_type": "markdown",
   "metadata": {
    "slideshow": {
     "slide_type": "fragment"
    }
   },
   "source": [
    "#### a)\n",
    "Obtena el $n$-ésimo número de Fibonacci ($n > 0$)."
   ]
  },
  {
   "cell_type": "code",
   "execution_count": null,
   "metadata": {},
   "outputs": [],
   "source": []
  },
  {
   "cell_type": "markdown",
   "metadata": {},
   "source": [
    "#### a bis)\n",
    "Use \"tuple unpacking\" para eliminar la variable intermedia."
   ]
  },
  {
   "cell_type": "code",
   "execution_count": null,
   "metadata": {},
   "outputs": [],
   "source": []
  },
  {
   "cell_type": "markdown",
   "metadata": {
    "slideshow": {
     "slide_type": "slide"
    }
   },
   "source": [
    "#### b)\n",
    "Escriba una función que genere el $n$-ésimo número de Fibonacci. Considere que pasa si el input es $n=0$.\n",
    "\n",
    "```python\n",
    "def fibonacci(n):\n",
    "    # Complete aquí\n",
    "    # los pasos\n",
    "    return numero\n",
    "```"
   ]
  },
  {
   "cell_type": "code",
   "execution_count": null,
   "metadata": {},
   "outputs": [],
   "source": []
  },
  {
   "cell_type": "markdown",
   "metadata": {
    "slideshow": {
     "slide_type": "slide"
    }
   },
   "source": [
    "#### c)\n",
    "Genere una lista con los $n = 10$ primeros números de la secuencia de Fibonacci.\n",
    "\n",
    "La secuencia de Fibonacci es:\n",
    "$$ a_0 = 0 $$\n",
    "$$ a_1 = 1 $$\n",
    "\n",
    "$$ a_n = a_{n-1} + a_{n-2} $$"
   ]
  },
  {
   "cell_type": "code",
   "execution_count": null,
   "metadata": {},
   "outputs": [],
   "source": []
  },
  {
   "cell_type": "markdown",
   "metadata": {
    "slideshow": {
     "slide_type": "slide"
    }
   },
   "source": [
    "#### d)\n",
    "Chequear si el número $x=123\\,456\\,789$ es parte de la secuencia de Fibonacci."
   ]
  },
  {
   "cell_type": "code",
   "execution_count": null,
   "metadata": {},
   "outputs": [],
   "source": []
  },
  {
   "cell_type": "markdown",
   "metadata": {
    "slideshow": {
     "slide_type": "slide"
    }
   },
   "source": [
    "#### e..xtra) Meta-Fibonacci\n",
    "\n",
    "Genere la secuencia de números $b_n$ tal que si $a_n$ es el $n$-ésimo número de Fibonacci, entonces $b_n$ = $a_{a_n}$"
   ]
  },
  {
   "cell_type": "code",
   "execution_count": null,
   "metadata": {},
   "outputs": [],
   "source": []
  },
  {
   "cell_type": "markdown",
   "metadata": {},
   "source": [
    "### 3. Método de Newton-Raphson\n",
    "\n",
    "El método de Newton-Raphson es uno de los métodos más efectivos para encontrar una raíz.\n",
    "\n",
    "Se basa en aproximar a la función por su serie de Taylor de orden 1:\n",
    "\n",
    "$$ f(x) \\sim f(x_0) + f'(x_0) \\, (x-x_0) $$\n",
    "\n",
    "Si evaluamos en la raíz (desconocida) $r$:\n",
    "\n",
    "$$ 0 \\sim f(x_0) + f'(x_0) \\, (r-x_0) $$\n",
    "\n",
    "Reordenando, tenemos:\n",
    "\n",
    "$$ r \\sim x_0 - \\frac{f(x_0)}{f'(x_0)} $$\n",
    "\n",
    "Con esto, podemos definir la siguiente relación recursiva:\n",
    "\n",
    "$$ x_{n+1} = x_n - \\frac{f(x_n)}{f'(x_n)} $$\n",
    "\n",
    "e iterar hasta que la variación sea menor a cierta tolerancia, es decir $|x_{n+1} - x_n| < \\epsilon$.\n",
    "\n",
    "Use este método para calcular la raíz para la función $f(x) = x^2 + 2$."
   ]
  },
  {
   "cell_type": "code",
   "execution_count": null,
   "metadata": {},
   "outputs": [],
   "source": []
  }
 ],
 "metadata": {
  "celltoolbar": "Slideshow",
  "kernelspec": {
   "display_name": "sci",
   "language": "python",
   "name": "sci"
  },
  "language_info": {
   "codemirror_mode": {
    "name": "ipython",
    "version": 3
   },
   "file_extension": ".py",
   "mimetype": "text/x-python",
   "name": "python",
   "nbconvert_exporter": "python",
   "pygments_lexer": "ipython3",
   "version": "3.8.2"
  }
 },
 "nbformat": 4,
 "nbformat_minor": 4
}
