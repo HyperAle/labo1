{
 "cells": [
  {
   "cell_type": "markdown",
   "metadata": {},
   "source": [
    "# Datos de COVID-19 del Ministerio de Salud\n",
    "\n",
    "http://datos.salud.gob.ar/dataset/covid-19-casos-registrados-en-la-republica-argentina"
   ]
  },
  {
   "cell_type": "markdown",
   "metadata": {},
   "source": [
    "Los datos estan en formato .csv, que es simplemente un archivo de texto con el siguiente formato:\n",
    "\n",
    "Archivo .csv (comma-separated values)\n",
    "```\n",
    "columna1, columna2, columna3\n",
    "valor1, valor2, valor3\n",
    "valor1, valor2, valor3\n",
    "```\n",
    "\n",
    "Ejemplo\n",
    "```\n",
    "fecha, edad, positivo\n",
    "2020-06-20, 33, NO\n",
    "2020-07-09, 27, SI\n",
    "```"
   ]
  },
  {
   "cell_type": "markdown",
   "metadata": {},
   "source": [
    "---\n",
    "#### Google Colab\n",
    "\n",
    "Si están en Google Colab, pueden bajar los datos con el siguiente comando:"
   ]
  },
  {
   "cell_type": "code",
   "execution_count": null,
   "metadata": {},
   "outputs": [],
   "source": [
    "!wget https://sisa.msal.gov.ar/datos/descargas/covid-19/files/Covid19Casos.csv"
   ]
  },
  {
   "cell_type": "markdown",
   "metadata": {},
   "source": [
    "Y ver las primeras filas con el siguiente comando:"
   ]
  },
  {
   "cell_type": "code",
   "execution_count": null,
   "metadata": {},
   "outputs": [],
   "source": [
    "!cat Covid19Casos.csv | head -n 3"
   ]
  },
  {
   "cell_type": "markdown",
   "metadata": {},
   "source": [
    "---"
   ]
  },
  {
   "cell_type": "markdown",
   "metadata": {},
   "source": [
    "Cargamos los datos:"
   ]
  },
  {
   "cell_type": "code",
   "execution_count": null,
   "metadata": {},
   "outputs": [],
   "source": [
    "import pandas as pd\n",
    "\n",
    "# file = \"https://sisa.msal.gov.ar/datos/descargas/covid-19/files/Covid19Casos.csv\"\n",
    "file = \"Covid19Casos.csv\"\n",
    "df = pd.read_csv(file)"
   ]
  },
  {
   "cell_type": "markdown",
   "metadata": {},
   "source": [
    "Veamos los datos:"
   ]
  },
  {
   "cell_type": "code",
   "execution_count": null,
   "metadata": {},
   "outputs": [],
   "source": [
    "df"
   ]
  },
  {
   "cell_type": "markdown",
   "metadata": {},
   "source": [
    "Calculemos la mediana de la columna edad:"
   ]
  },
  {
   "cell_type": "code",
   "execution_count": null,
   "metadata": {},
   "outputs": [],
   "source": [
    "df.edad.median()"
   ]
  },
  {
   "cell_type": "markdown",
   "metadata": {},
   "source": [
    "Hagamos un histograma de la columna edad:"
   ]
  },
  {
   "cell_type": "code",
   "execution_count": null,
   "metadata": {},
   "outputs": [],
   "source": [
    "df.edad.hist(bins=range(120))"
   ]
  },
  {
   "cell_type": "markdown",
   "metadata": {},
   "source": [
    "Veamos que tipos de clasificaciones hay:"
   ]
  },
  {
   "cell_type": "code",
   "execution_count": null,
   "metadata": {},
   "outputs": [],
   "source": [
    "df.clasificacion_resumen.unique()"
   ]
  },
  {
   "cell_type": "markdown",
   "metadata": {},
   "source": [
    "Quedemonos con el subset de casos confirmados:"
   ]
  },
  {
   "cell_type": "code",
   "execution_count": null,
   "metadata": {},
   "outputs": [],
   "source": [
    "df_descartado = df[df.clasificacion_resumen == \"Descartado\"]\n",
    "df_confirmado = df[df.clasificacion_resumen == \"Confirmado\"]"
   ]
  },
  {
   "cell_type": "markdown",
   "metadata": {},
   "source": [
    "Comparemos los histogramas de edad:"
   ]
  },
  {
   "cell_type": "code",
   "execution_count": null,
   "metadata": {},
   "outputs": [],
   "source": [
    "ax = df_descartado.edad.hist(bins=range(120), histtype=\"step\", label='Confirmado')\n",
    "ax = df_confirmado.edad.hist(bins=range(120), histtype=\"step\", label=\"Descartado\")\n",
    "ax.legend()"
   ]
  },
  {
   "cell_type": "markdown",
   "metadata": {},
   "source": [
    "Hay menos casos confimados que descartados, pero: ¿es distinta la distribución de edad?\n",
    "\n",
    "Normalicemos los histogramas:"
   ]
  },
  {
   "cell_type": "code",
   "execution_count": null,
   "metadata": {
    "scrolled": true
   },
   "outputs": [],
   "source": [
    "ax = df_descartado.edad.hist(density=True, bins=range(120), histtype=\"step\", label='Confirmado')\n",
    "ax = df_confirmado.edad.hist(density=True, bins=range(120), histtype=\"step\", label=\"Descartado\")\n",
    "ax.legend()"
   ]
  },
  {
   "cell_type": "markdown",
   "metadata": {},
   "source": [
    "Otra forma (¿mejor?) de verlo:\n",
    "\n",
    "Contemos la cantidad de casos por edad y calculemos la relación: confirmados / descartados en función de la edad."
   ]
  },
  {
   "cell_type": "code",
   "execution_count": null,
   "metadata": {},
   "outputs": [],
   "source": [
    "dg = df_confirmado.groupby(\"edad\").size() / df_descartado.groupby(\"edad\").size()\n",
    "dg.plot()"
   ]
  },
  {
   "cell_type": "code",
   "execution_count": null,
   "metadata": {},
   "outputs": [],
   "source": [
    "df_confirmado.groupby(\"sexo\").edad.hist(bins=range(120), histtype=\"step\")"
   ]
  }
 ],
 "metadata": {
  "kernelspec": {
   "display_name": "sci",
   "language": "python",
   "name": "sci"
  },
  "language_info": {
   "codemirror_mode": {
    "name": "ipython",
    "version": 3
   },
   "file_extension": ".py",
   "mimetype": "text/x-python",
   "name": "python",
   "nbconvert_exporter": "python",
   "pygments_lexer": "ipython3",
   "version": "3.8.2"
  }
 },
 "nbformat": 4,
 "nbformat_minor": 4
}
